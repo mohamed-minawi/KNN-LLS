{
 "cells": [
  {
   "cell_type": "code",
   "execution_count": 1,
   "metadata": {
    "collapsed": false
   },
   "outputs": [],
   "source": [
    "import numpy as np\n",
    "import matplotlib.pyplot as plt\n",
    "import LOAD_CIFAR as ld\n",
    "import LLS as LS"
   ]
  },
  {
   "cell_type": "code",
   "execution_count": 2,
   "metadata": {
    "collapsed": false
   },
   "outputs": [],
   "source": [
    "data_dir = 'cifar-10-python'\n",
    "\n",
    "X_train, y_train, X_test, y_test = ld.load_cifar10_data(data_dir)\n",
    "\n",
    "X_train = np.reshape(X_train, (X_train.shape[0], -1))\n",
    "X_test = np.reshape(X_test, (X_test.shape[0], -1))"
   ]
  },
  {
   "cell_type": "code",
   "execution_count": 3,
   "metadata": {
    "collapsed": false,
    "scrolled": true
   },
   "outputs": [],
   "source": [
    "classifier = LS.LLS()\n",
    "classifier.getW(X_train, y_train)"
   ]
  },
  {
   "cell_type": "code",
   "execution_count": 4,
   "metadata": {
    "collapsed": true
   },
   "outputs": [],
   "source": [
    "y_test_pred = classifier.predict(X_test)\n"
   ]
  },
  {
   "cell_type": "code",
   "execution_count": 6,
   "metadata": {
    "collapsed": false
   },
   "outputs": [
    {
     "name": "stdout",
     "output_type": "stream",
     "text": [
      "('Accuracy = ', 0.36370000000000002)\n",
      "(0, 0.46899999999999997)\n",
      "(1, 0.44500000000000001)\n",
      "(2, 0.20699999999999999)\n",
      "(3, 0.17699999999999999)\n",
      "(4, 0.24299999999999999)\n",
      "(5, 0.28499999999999998)\n",
      "(6, 0.44900000000000001)\n",
      "(7, 0.42599999999999999)\n",
      "(8, 0.50800000000000001)\n",
      "(9, 0.42799999999999999)\n"
     ]
    }
   ],
   "source": [
    "print(\"Accuracy = \", np.mean(y_test_pred == y_test))\n",
    "\n",
    "for i in range(10):\n",
    "    print(i,  np.sum( np.logical_and(y_test_pred == y_test, y_test == i)) / float(np.sum(y_test == i)) )"
   ]
  },
  {
   "cell_type": "code",
   "execution_count": null,
   "metadata": {
    "collapsed": true
   },
   "outputs": [],
   "source": []
  }
 ],
 "metadata": {
  "kernelspec": {
   "display_name": "Python 2",
   "language": "python",
   "name": "python2"
  },
  "language_info": {
   "codemirror_mode": {
    "name": "ipython",
    "version": 2
   },
   "file_extension": ".py",
   "mimetype": "text/x-python",
   "name": "python",
   "nbconvert_exporter": "python",
   "pygments_lexer": "ipython2",
   "version": "2.7.12"
  }
 },
 "nbformat": 4,
 "nbformat_minor": 2
}
